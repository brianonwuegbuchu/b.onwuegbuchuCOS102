{
 "cells": [
  {
   "cell_type": "markdown",
   "metadata": {},
   "source": [
    "# Python | Pandas DataFrame"
   ]
  },
  {
   "cell_type": "markdown",
   "metadata": {},
   "source": [
    "### What is Pandas?"
   ]
  },
  {
   "cell_type": "markdown",
   "metadata": {},
   "source": [
    "<b>pandas</b> is a software library written for the Python programming language for data manipulation and analysis. In particular, it offers data structures and operations for manipulating numerical tables and time series. "
   ]
  },
  {
   "cell_type": "markdown",
   "metadata": {},
   "source": [
    "### What is a Pandas DataFrame?"
   ]
  },
  {
   "cell_type": "markdown",
   "metadata": {},
   "source": [
    "<b>Pandas DataFrame</b> is two-dimensional size-mutable, potentially heterogeneous tabular data structure with labeled axes (rows and columns). \n",
    "\n",
    "A Data frame is a two-dimensional data structure, i.e., data is aligned in a tabular fashion in rows and columns. \n",
    "\n",
    "Pandas DataFrame consists of three principal components, the data, rows, and columns."
   ]
  },
  {
   "cell_type": "markdown",
   "metadata": {},
   "source": [
    "<img src=\"images/pandas.jpg\">"
   ]
  },
  {
   "cell_type": "markdown",
   "metadata": {},
   "source": [
    "A Pandas DataFrame will be created by loading the datasets from existing storage. Storage can be SQL Database, CSV file, and Excel file. \n",
    "Pandas DataFrame can be created from the lists, dictionary, and from a list of dictionary etc.\n",
    "\n",
    "Dataframe can be created in different ways here are some ways by which we create a dataframe:\n"
   ]
  },
  {
   "cell_type": "markdown",
   "metadata": {},
   "source": [
    "### Creating a dataframe using List:"
   ]
  },
  {
   "cell_type": "code",
   "execution_count": null,
   "metadata": {},
   "outputs": [],
   "source": [
    "# import pandas as pd\n",
    "import pandas as pd\n",
    " \n",
    "# list of strings\n",
    "lyst = ['CSC', '102', 'is', 'the', 'best', 'course', 'ever']\n",
    " \n",
    "# Calling DataFrame constructor on list\n",
    "df = pd.DataFrame(lyst)\n",
    "\n",
    "# Print the output.\n",
    "print(df)"
   ]
  },
  {
   "cell_type": "markdown",
   "metadata": {},
   "source": [
    "### Creating a dataframe using dict of narray/lists:"
   ]
  },
  {
   "cell_type": "code",
   "execution_count": null,
   "metadata": {},
   "outputs": [],
   "source": [
    "import pandas as pd\n",
    "\n",
    "# Initialise data of lists (ensuring equal lengths)\n",
    "data = {\n",
    "    'Name': ['Angela', 'Precious', 'Luis', 'Ade', 'John'],  # Added 5th name\n",
    "    'Age': [20, 21, 19, 18, 20]  # Now matches length\n",
    "}\n",
    "\n",
    "# Create DataFrame (fixed typo)\n",
    "df = pd.DataFrame(data)\n",
    "\n",
    "# Print the output\n",
    "print(df)"
   ]
  },
  {
   "cell_type": "markdown",
   "metadata": {},
   "source": [
    "### Column Selection:"
   ]
  },
  {
   "cell_type": "code",
   "execution_count": null,
   "metadata": {},
   "outputs": [],
   "source": [
    "# Import pandas package\n",
    "import pandas as pd\n",
    "\n",
    "# Define a dictionary containing employee data\n",
    "data = {\n",
    "    'Name': ['Clem', 'Prince', 'Edward', 'Adele'],\n",
    "    'Age': [27, 24, 22, 32],\n",
    "    'Address': ['Abuja', 'Kano', 'Minna', 'Lagos'],  # Fixed quotes\n",
    "    'Qualification': ['Msc', 'MA', 'MCA', 'Phd']\n",
    "}\n",
    "\n",
    "# Convert the dictionary into DataFrame\n",
    "df = pd.DataFrame(data)  # Fixed alias (pd instead of pf)\n",
    "\n",
    "# Select two columns\n",
    "print(df[['Name', 'Qualification']])  # Added print() and fixed brackets"
   ]
  },
  {
   "cell_type": "markdown",
   "metadata": {},
   "source": [
    "### Row Selection:\n",
    "Pandas provide a unique method to retrieve rows from a Data frame.<br>\n",
    "<i><font color=\"green\">DataFrame.iloc[]</font></i> method is used to retrieve rows from Pandas DataFrame.<br>"
   ]
  },
  {
   "cell_type": "code",
   "execution_count": null,
   "metadata": {},
   "outputs": [],
   "source": [
    "import pandas as pd  # Fixed alias (changed 'pg' to 'pd')\n",
    "\n",
    "# Define a dictionary containing employee data\n",
    "data = {'Name':['Oyin', 'Mary', 'David', 'Bola'],\n",
    "        'Age':[27, 24, 22, 32],\n",
    "        'Address':['Asaba', 'Maiduguri', 'Onitsha', 'Kwara'],\n",
    "        'Qualification':['Msc', 'MA', 'MCA', 'Phd']}  # Removed extra }\n",
    "\n",
    "# Convert the dictionary into DataFrame \n",
    "df = pd.DataFrame(data)  # Fixed capitalization of 'Frame'\n",
    "\n",
    "# Select first row\n",
    "print(df.iloc[0])  # Added print() for proper output"
   ]
  },
  {
   "cell_type": "markdown",
   "metadata": {},
   "source": [
    "### Read from a file:"
   ]
  },
  {
   "cell_type": "code",
   "execution_count": null,
   "metadata": {},
   "outputs": [],
   "source": [
    "# importing pandas package\n",
    "import pandas as pd\n",
    "\n",
    "# making data frame from csv file\n",
    "try:\n",
    "    data = pd.read_csv(\"employee_records.csv\")  # Fixed potential filename typo\n",
    "    print(data)  # Proper printing of DataFrame\n",
    "except FileNotFoundError:\n",
    "    print(\"Error: File 'employee_records.csv' not found. Please check the file path.\")\n",
    "except Exception as e:\n",
    "    print(f\"An error occurred: {str(e)}\")"
   ]
  },
  {
   "cell_type": "markdown",
   "metadata": {},
   "source": [
    "### Select first row from file"
   ]
  },
  {
   "cell_type": "code",
   "execution_count": null,
   "metadata": {},
   "outputs": [],
   "source": [
    "# importing pandas package\n",
    "import pandas as pd\n",
    "\n",
    "try:\n",
    "    # making data frame from csv file\n",
    "    data = pd.read_csv(\"employee_records.csv\")  # Reads CSV file\n",
    "    \n",
    "    # Get first row of data\n",
    "    df = data.iloc[0]  # Fixed variable name from 'datas' to 'data'\n",
    "    \n",
    "    # Print the first row\n",
    "    print(df)  # Fixed variable name and added print()\n",
    "    \n",
    "except FileNotFoundError:\n",
    "    print(\"Error: 'employee_records.csv' file not found.\")\n",
    "except Exception as e:\n",
    "    print(f\"An error occurred: {str(e)}\")"
   ]
  },
  {
   "cell_type": "markdown",
   "metadata": {},
   "source": [
    "### Selecting Row with Title Header"
   ]
  },
  {
   "cell_type": "code",
   "execution_count": null,
   "metadata": {},
   "outputs": [],
   "source": [
    "# importing pandas package\n",
    "import pandas as pd  # Fixed \"panda\" to \"pandas\"\n",
    "\n",
    "try:\n",
    "    # making data frame from csv file\n",
    "    data = pd.read_csv(\"bcg.csv\")  # Changed file extension to .csv\n",
    "    \n",
    "    # Print first row of data\n",
    "    print(data.head(1))  # Directly printing without intermediate variable\n",
    "    \n",
    "except FileNotFoundError:\n",
    "    print(\"Error: 'bcg.csv' file not found. Please check the filename and path.\")\n",
    "except Exception as e:\n",
    "    print(f\"An error occurred: {str(e)}\")"
   ]
  },
  {
   "cell_type": "markdown",
   "metadata": {},
   "source": [
    "### Looping over rows and columns\n",
    "A loop is a general term for taking each item of something, one after another.<br> Pandas DataFrame consists of rows and columns so, in order to loop over dataframe, we have to iterate a dataframe like a dictionary.<br><br>\n",
    "In order to iterate over rows, we can use two functions <i><font color=\"green\">iteritems(), iterrows() </font></i>. These two functions will help in iteration over rows."
   ]
  },
  {
   "cell_type": "code",
   "execution_count": null,
   "metadata": {},
   "outputs": [],
   "source": [
    "# importing pandas as pd\n",
    "import pandas as pd\n",
    "  \n",
    "# dictionary of lists\n",
    "data_dict = {'name':[\"Abdul\", \"Chukwuemeka\", \"Seyi\", \"Matt\"],\n",
    "             'degree': [\"MBA\", \"BCA\", \"M.Tech\", \"MBA\"],\n",
    "             'score':[90, 40, 80, 98]}\n",
    " \n",
    "# creating a dataframe from a dictionary \n",
    "df = pd.DataFrame(data_dict)  # Fixed variable name\n",
    "\n",
    "# iterating over rows using iterrows() function \n",
    "for index, row in df.iterrows():\n",
    "    print(f\"Index: {index}\")\n",
    "    print(row)\n",
    "    print(\"-\" * 30)  # Better separator than blank line\n",
    "    "
   ]
  },
  {
   "cell_type": "markdown",
   "metadata": {},
   "source": [
    "### Looping over Columns :\n",
    "In order to loop over columns, we need to create a list of dataframe columns and then iterating through that list to pull out the dataframe columns."
   ]
  },
  {
   "cell_type": "code",
   "execution_count": null,
   "metadata": {},
   "outputs": [],
   "source": [
    "# importing pandas as pd\n",
    "import pandas as pd\n",
    "   \n",
    "# dictionary of lists\n",
    "data = {'name':[\"Bello\", \"Kamara\", \"Ugochi\", \"David\"],\n",
    "        'degree': [\"MBA\", \"BCA\", \"M.Tech\", \"MBA\"],\n",
    "        'score':[90, 40, 80, 98]}\n",
    "  \n",
    "# creating a dataframe from a dictionary \n",
    "df = pd.DataFrame(data)\n",
    "\n",
    "# creating a list of dataframe columns\n",
    "columns = list(df.columns)  # Fixed variable name\n",
    " \n",
    "for col in columns:\n",
    "    # printing the third element of the column\n",
    "    print(f\"Third element of {col}: {df[col][2]}\")  # Added descriptive output"
   ]
  },
  {
   "cell_type": "markdown",
   "metadata": {},
   "source": [
    "### Saving a DataFrame as CSV file"
   ]
  },
  {
   "cell_type": "code",
   "execution_count": null,
   "metadata": {},
   "outputs": [],
   "source": [
    "# importing pandas as pd\n",
    "import pandas as pd\n",
    "   \n",
    "# dictionary of lists\n",
    "records = {'name':[\"Abel\", \"Kamsi\", \"Oyode\", \"Chinelo\"],\n",
    "        'degree': [\"MBA\", \"BCA\", \"M.Tech\", \"MBA\"],\n",
    "        'score':[90, 40, 80, 98]}\n",
    "  \n",
    "# creating a dataframe from a dictionary \n",
    "df = pd.DataFrame(records)  # Fixed variable name\n",
    "\n",
    "try:\n",
    "    # saving the dataframe without index\n",
    "    df.to_csv('record.csv', index=False)  # Added index=False\n",
    "    print(\"Data successfully saved to record.csv\")\n",
    "except Exception as e:\n",
    "    print(f\"Error saving file: {str(e)}\")"
   ]
  },
  {
   "cell_type": "markdown",
   "metadata": {},
   "source": [
    "## Class Project I\n"
   ]
  },
  {
   "cell_type": "markdown",
   "metadata": {},
   "source": [
    "####  Go to www.kaggle.com\n",
    "\n",
    "Kaggle allows users to find and publish data sets, explore and build models in a web-based data-science environment, work with other data scientists and machine learning engineers, and enter competitions to solve data science challenges.\n",
    "\n",
    "#### Download the following dataset:\n",
    "1. Top Apps in Google Play\n",
    "2. Cryptocurrency Predict Artificial Intelligence V3\n",
    "3. Programming Languages Trend Over Time\n",
    "\n",
    "#### Clue\n",
    "You can signin with either Google, facebook or Linkedin account\n",
    "\n",
    "#### Task\n",
    "Display the first 7 rows of each dataset<br>\n",
    "Select the first 3 colums of each dataset<br>\n",
    "Display only one row and header of each dataset\n"
   ]
  },
  {
   "cell_type": "code",
   "execution_count": null,
   "metadata": {},
   "outputs": [],
   "source": [
    "import pandas as pd\n",
    "\n",
    "def analyze_dataset(file_path):\n",
    "    try:\n",
    "        \n",
    "        df = pd.read_csv(file_path)\n",
    "        \n",
    "        print(f\"\\nAnalyzing dataset: {file_path}\")\n",
    "        print(\"\\nFirst 7 rows:\")\n",
    "        print(df.head(7))\n",
    "        \n",
    "        print(\"\\nFirst 3 columns:\")\n",
    "        print(df.iloc[:, :3].head())  \n",
    "        \n",
    "        print(\"\\nOne row with headers:\")\n",
    "        print(df.head(1))  \n",
    "    \n",
    "    except FileNotFoundError:\n",
    "        print(f\"Error: File {file_path} not found\")\n",
    "    except Exception as e:\n",
    "        print(f\"An error occurred with {file_path}: {str(e)}\")\n",
    "\n",
    "\n",
    "datasets = [\n",
    "    \"top_apps_google_play.csv\",\n",
    "    \"cryptocurrency_predict_ai_v3.csv\",\n",
    "    \"programming_languages_trend.csv\"\n",
    "]\n",
    "\n",
    "for dataset in datasets:\n",
    "    analyze_dataset(dataset)"
   ]
  },
  {
   "cell_type": "markdown",
   "metadata": {},
   "source": [
    "## Class Project II"
   ]
  },
  {
   "cell_type": "markdown",
   "metadata": {},
   "source": [
    "<b>Cadbury Nigeria Plc</b> manufactures and sells branded fast moving consumer goods to the Nigerian market and exports in West Africa. The Company produces intermediate products, such as cocoa butter, liquor, cake and powder. It exports cocoa butter, cake and liquor to international customers, and cocoa powder locally. It operates through three segments: Refreshment Beverages, Confectionery and Intermediate Cocoa Products. The Refreshment Beverages segment includes the manufacture and sale of Bournvita and Hot Chocolate. The Confectionery segment includes the manufacture and sale of Tom Tom and Buttermint. The Intermediate Cocoa Products segment includes the manufacture and sale of cocoa powder, cocoa butter, cocoa liquor and cocoa cake. The Refreshment Beverages' brands include CADBURY BOURNVITA and CADBURY 3-in-1 HOT CHOCOLATE. The Confectionery's brands include TOMTOM CLASSIC, TOMTOM STRAWBERRY and BUTTERMINT. The Intermediate Cocoa Products' brands include COCOA POWDER and COCOA BUTTER.\n",
    "\n",
    "You have been employed as an expert python developer to create a program to document the consumption categories of their products and brands. Using your knowledge of Pandas DataFrames develop the program that saves the list of products (export, segments and brands) in a .csv excel file.<br><br>\n",
    "Hint: save the filename as <font color=\"green\"><i>cadbury_market.csv</i></font>."
   ]
  },
  {
   "cell_type": "code",
   "execution_count": null,
   "metadata": {},
   "outputs": [],
   "source": [
    "import pandas as pd\n",
    "\n",
    "\n",
    "data = {\n",
    "    'Segment': ['Refreshment Beverages', 'Refreshment Beverages', \n",
    "                'Confectionery', 'Confectionery', 'Confectionery',\n",
    "                'Intermediate Cocoa Products', 'Intermediate Cocoa Products',\n",
    "                'Intermediate Cocoa Products', 'Intermediate Cocoa Products'],\n",
    "    'Product': ['Beverage', 'Beverage', \n",
    "               'Candy', 'Candy', 'Candy',\n",
    "               'Cocoa Product', 'Cocoa Product', \n",
    "               'Cocoa Product', 'Cocoa Product'],\n",
    "    'Brand': ['CADBURY BOURNVITA', 'CADBURY 3-in-1 HOT CHOCOLATE',\n",
    "              'TOMTOM CLASSIC', 'TOMTOM STRAWBERRY', 'BUTTERMINT',\n",
    "              'COCOA POWDER', 'COCOA BUTTER', \n",
    "              'COCOA LIQUOR', 'COCOA CAKE'],\n",
    "    'Export': ['No', 'No', \n",
    "              'No', 'No', 'No',\n",
    "              'Yes', 'Yes', \n",
    "              'Yes', 'Yes']\n",
    "}\n",
    "\n",
    "\n",
    "cadbury_df = pd.DataFrame(data)\n",
    "\n",
    "try:\n",
    "   \n",
    "    cadbury_df.to_csv('cadbury_market.csv', index=False)\n",
    "    print(\"Cadbury product documentation successfully saved to 'cadbury_market.csv'\")\n",
    "    \n",
    "    \n",
    "    print(\"\\nSaved Data Preview:\")\n",
    "    print(cadbury_df.head())\n",
    "    \n",
    "except Exception as e:\n",
    "    print(f\"Error saving file: {str(e)}\")"
   ]
  }
 ],
 "metadata": {
  "kernelspec": {
   "display_name": "Python 3",
   "language": "python",
   "name": "python3"
  },
  "language_info": {
   "codemirror_mode": {
    "name": "ipython",
    "version": 3
   },
   "file_extension": ".py",
   "mimetype": "text/x-python",
   "name": "python",
   "nbconvert_exporter": "python",
   "pygments_lexer": "ipython3",
   "version": "3.8.5"
  }
 },
 "nbformat": 4,
 "nbformat_minor": 4
}
